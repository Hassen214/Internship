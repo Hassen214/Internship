{
 "cells": [
  {
   "cell_type": "code",
   "execution_count": null,
   "metadata": {},
   "outputs": [],
   "source": [
    "import numpy as np\n",
    "import matplotlib.pyplot as plt\n",
    "from scipy.special import factorial2, comb\n",
    "from scipy.interpolate import splrep, splev, interp1d\n",
    "from numpy.polynomial.hermite import hermgauss\n",
    "from py_vollib.black_scholes.implied_volatility import implied_volatility as bs_iv\n",
    "from py_vollib.black_scholes.implied_volatility import implied_volatility\n",
    "from py_vollib.black_scholes.implied_volatility import implied_volatility\n",
    "from typing import Optional, Tuple, List\n",
    "from scipy.stats import norm\n",
    "from scipy.optimize import brentq\n",
    "from scipy.stats import norm\n",
    "from py_vollib.black.implied_volatility import implied_volatility as iv_black\n",
    "from py_vollib.black.implied_volatility import implied_volatility as iv_black\n",
    "# Imp vol estimator based on P Jäckel's \"Let's be rational\"\n",
    "vec_find_vol_rat = np.vectorize(implied_volatility)\n"
   ]
  },
  {
   "cell_type": "code",
   "execution_count": 1,
   "metadata": {},
   "outputs": [],
   "source": [
    "def compute_expression(delta, alpha):\n",
    "    \"\"\"\n",
    "    Computes the expression:\n",
    "        delta * (1 - alpha) / (alpha - 1)\n",
    "    which is equivalent to:\n",
    "        (delta * (1 - alpha)) / (alpha - 1)\n",
    "\n",
    "    Parameters:\n",
    "    - delta: numeric\n",
    "    - alpha: numeric\n",
    "\n",
    "    Returns:\n",
    "    - result: numeric\n",
    "    \"\"\"\n",
    "    return delta ** (1 - alpha) / (alpha - 1)\n"
   ]
  },
  {
   "cell_type": "code",
   "execution_count": null,
   "metadata": {},
   "outputs": [],
   "source": [
    "class Discrete_PDV():\n",
    "    def __init__(self,beta,alpha,delta):\n",
    "        self.beta = beta\n",
    "        self.alpha = alpha \n",
    "        self.delta = delta \n",
    "    "
   ]
  }
 ],
 "metadata": {
  "kernelspec": {
   "display_name": "Python 3",
   "language": "python",
   "name": "python3"
  },
  "language_info": {
   "codemirror_mode": {
    "name": "ipython",
    "version": 3
   },
   "file_extension": ".py",
   "mimetype": "text/x-python",
   "name": "python",
   "nbconvert_exporter": "python",
   "pygments_lexer": "ipython3",
   "version": "3.10.12"
  }
 },
 "nbformat": 4,
 "nbformat_minor": 2
}
